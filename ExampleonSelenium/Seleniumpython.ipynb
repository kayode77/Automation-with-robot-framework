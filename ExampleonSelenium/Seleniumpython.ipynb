{
 "cells": [
  {
   "cell_type": "markdown",
   "metadata": {},
   "source": [
    "# How to take screenshot of the current window ?"
   ]
  },
  {
   "cell_type": "code",
   "execution_count": 1,
   "metadata": {},
   "outputs": [
    {
     "name": "stdout",
     "output_type": "stream",
     "text": [
      "Jumia Nigeria | Online Shopping for Groceries, Appliances & More!\n",
      "https://www.jumia.com.ng/\n",
      "CDwindow-F68D0A177A54BCB15DB94B84AEB1386A\n",
      "Buy Phones, Fashion, Electronics in Nigeria | Konga Online Shopping\n",
      "https://www.konga.com/\n",
      "CDwindow-6E357C74ACB121BE62F0370CDA058EE5\n"
     ]
    }
   ],
   "source": [
    "from selenium import webdriver\n",
    "from selenium.webdriver.common.keys import Keys\n",
    "\n",
    "\n",
    "class SeleniumDemo():\n",
    "    def OpenJumia(self):\n",
    "        driver = webdriver.Chrome()\n",
    "        driver.get(\"https://www.jumia.com.ng\")\n",
    "        driver.implicitly_wait(5)\n",
    "        print(driver.title)\n",
    "        print(driver.current_url)\n",
    "        print(driver.current_window_handle)\n",
    "        driver.save_screenshot('screenshot1.png')\n",
    "        driver.close()\n",
    "    def Openkonga(self):\n",
    "        driver = webdriver.Chrome()\n",
    "        driver.get(\"https://www.konga.com\")\n",
    "        driver.implicitly_wait(5)\n",
    "        print(driver.title)\n",
    "        print(driver.current_url)\n",
    "        print(driver.current_window_handle)\n",
    "        driver.save_screenshot('screenshot11.png')\n",
    "        driver.close()\n",
    "\n",
    "demobrowser=SeleniumDemo()\n",
    "demobrowser.OpenJumia()\n",
    "demobrowser.Openkonga()"
   ]
  },
  {
   "cell_type": "code",
   "execution_count": 2,
   "metadata": {},
   "outputs": [
    {
     "name": "stdout",
     "output_type": "stream",
     "text": [
      "Jumia Nigeria | Online Shopping for Groceries, Appliances & More!\n",
      "https://www.jumia.com.ng/\n"
     ]
    }
   ],
   "source": [
    "from selenium import webdriver\n",
    "from selenium.webdriver.common.keys import Keys\n",
    "from selenium.webdriver.common.by import By\n",
    "import time\n",
    "\n",
    "class SeleniumDemo():\n",
    "    def OpenJumia(self):\n",
    "        driver = webdriver.Firefox()\n",
    "        driver.get(\"https://www.jumia.com.ng\")\n",
    "        print(driver.title)\n",
    "        assert \"Jumia Nigeria\" in driver.title\n",
    "        driver.find_element(By.XPATH, \"//input[@id='fi-q']\").send_keys(\"Cloth\")\n",
    "        driver.find_element(By.XPATH,\"//button[@class='btn _prim _md -mls -fsh0']\").click()\n",
    "        print(driver.current_url)\n",
    "        driver.save_screenshot('screenshot2.png')\n",
    "        driver.back()\n",
    "        time.sleep(4)\n",
    "        driver.close()\n",
    "\n",
    "demobrowser=SeleniumDemo()\n",
    "demobrowser.OpenJumia()"
   ]
  },
  {
   "cell_type": "code",
   "execution_count": 9,
   "metadata": {},
   "outputs": [
    {
     "name": "stdout",
     "output_type": "stream",
     "text": [
      "Jumia Nigeria | Online Shopping for Groceries, Appliances & More!\n",
      "Jumia Nigeria | Online Shopping for Groceries, Appliances & More!\n",
      "https://www.jumia.com.ng/catalog/?q=Cloth\n",
      "Shop All Products - TVs, Laptops, Fashion Items | Jumia Nigeria\n",
      "https://www.jumia.com.ng/catalog/?q=Phone\n"
     ]
    }
   ],
   "source": [
    "from selenium import webdriver\n",
    "from selenium.webdriver.common.keys import Keys\n",
    "from selenium.webdriver.common.by import By\n",
    "import time\n",
    "\n",
    "class SeleniumDemo():\n",
    "    def OpenJumia(self):\n",
    "        driver = webdriver.Firefox()\n",
    "        driver.get(\"https://www.jumia.com.ng\")\n",
    "        print(driver.title)\n",
    "        assert \"Jumia Nigeria\" in driver.title\n",
    "        driver.find_element(By.XPATH, \"//input[@id='fi-q']\").send_keys(\"Cloth\")\n",
    "        driver.find_element(By.XPATH,\"//button[@class='btn _prim _md -mls -fsh0']\").click()\n",
    "        print(driver.title)\n",
    "        time.sleep(5)\n",
    "        print(driver.current_url)\n",
    "        time.sleep(5)\n",
    "        driver.save_screenshot('screenshot3.png')\n",
    "        driver.back()\n",
    "        time.sleep(5)\n",
    "        driver.find_element(By.ID,'fi-q').send_keys(\"Phone\")\n",
    "        driver.find_element(By.XPATH,\"//button[@class='btn _prim _md -mls -fsh0']\").click()\n",
    "        time.sleep(5)\n",
    "        print(driver.title)\n",
    "        print(driver.current_url)\n",
    "        driver.save_screenshot('screenshot4.png')\n",
    "        time.sleep(5)\n",
    "        driver.back()\n",
    "        time.sleep(5)\n",
    "        driver.close()\n",
    "\n",
    "demobrowser=SeleniumDemo()\n",
    "demobrowser.OpenJumia()"
   ]
  },
  {
   "cell_type": "code",
   "execution_count": 7,
   "metadata": {},
   "outputs": [
    {
     "name": "stdout",
     "output_type": "stream",
     "text": [
      "Jumia Nigeria | Online Shopping for Groceries, Appliances & More!\n",
      "Shop All Products - TVs, Laptops, Fashion Items | Jumia Nigeria\n",
      "https://www.jumia.com.ng/catalog/?q=Cloth\n",
      "Jumia Nigeria | Online Shopping for Groceries, Appliances & More!\n",
      "https://www.jumia.com.ng/\n"
     ]
    }
   ],
   "source": [
    "from selenium import webdriver\n",
    "from selenium.webdriver.common.keys import Keys\n",
    "from selenium.webdriver.common.by import By\n",
    "import time\n",
    "\n",
    "class SeleniumDemo():\n",
    "    def OpenJumia(self):\n",
    "        driver = webdriver.Firefox()\n",
    "        driver.get(\"https://www.jumia.com.ng\")\n",
    "        driver.implicitly_wait(10)\n",
    "        print(driver.title)\n",
    "        assert \"Jumia Nigeria\" in driver.title\n",
    "        driver.find_element(By.XPATH, \"//input[@id='fi-q']\").send_keys(\"Cloth\")\n",
    "        driver.find_element(By.XPATH,\"//button[@class='btn _prim _md -mls -fsh0']\").click()\n",
    "        print(driver.title)\n",
    "        print(driver.current_url)\n",
    "        driver.back()\n",
    "        driver.find_element(By.XPATH, \"//input[@id='fi-q']\").send_keys(\"Phones\")\n",
    "        driver.find_element(By.XPATH,\"//button[@class='btn _prim _md -mls -fsh0']\").click()\n",
    "        print(driver.title)\n",
    "        print(driver.current_url)\n",
    "        driver.back()\n",
    "        driver.close()\n",
    "\n",
    "demobrowser=SeleniumDemo()\n",
    "demobrowser.OpenJumia()"
   ]
  },
  {
   "cell_type": "code",
   "execution_count": 12,
   "metadata": {},
   "outputs": [
    {
     "name": "stdout",
     "output_type": "stream",
     "text": [
      "Jumia Nigeria | Online Shopping for Groceries, Appliances & More!\n",
      "Shop All Products - TVs, Laptops, Fashion Items | Jumia Nigeria\n",
      "https://www.jumia.com.ng/catalog/?q=Cloth\n"
     ]
    },
    {
     "name": "stderr",
     "output_type": "stream",
     "text": [
      "c:\\users\\victoria\\appdata\\local\\programs\\python\\python37\\lib\\selectors.py:328: ResourceWarning: unclosed <socket.socket fd=1040, family=AddressFamily.AF_INET, type=SocketKind.SOCK_STREAM, proto=0, laddr=('127.0.0.1', 52068), raddr=('127.0.0.1', 52063)>\n",
      "  for fd in r | w:\n",
      "ResourceWarning: Enable tracemalloc to get the object allocation traceback\n"
     ]
    },
    {
     "name": "stdout",
     "output_type": "stream",
     "text": [
      "Jumia Nigeria | Online Shopping for Groceries, Appliances & More!\n",
      "https://www.jumia.com.ng/\n"
     ]
    },
    {
     "name": "stderr",
     "output_type": "stream",
     "text": [
      ".c:\\users\\victoria\\appdata\\local\\programs\\python\\python37\\lib\\unittest\\suite.py:84: ResourceWarning: unclosed <socket.socket fd=1132, family=AddressFamily.AF_INET, type=SocketKind.SOCK_STREAM, proto=0, laddr=('127.0.0.1', 52158), raddr=('127.0.0.1', 52153)>\n",
      "  return self.run(*args, **kwds)\n",
      "ResourceWarning: Enable tracemalloc to get the object allocation traceback\n",
      ".\n",
      "----------------------------------------------------------------------\n",
      "Ran 2 tests in 202.554s\n",
      "\n",
      "OK\n"
     ]
    }
   ],
   "source": [
    "import unittest\n",
    "from selenium import webdriver\n",
    "from selenium.webdriver.common.keys import Keys\n",
    "from selenium.webdriver.common.by import By\n",
    "\n",
    "class JumiaSearch(unittest.TestCase):\n",
    "\n",
    "    def setUp(self):\n",
    "        self.driver = webdriver.Firefox()\n",
    "    def test_search_jumia_org(self):\n",
    "        driver = self.driver\n",
    "        driver.get(\"https://www.jumia.com.ng\")\n",
    "        driver.implicitly_wait(10)\n",
    "        print(driver.title)\n",
    "        assert \"Jumia Nigeria\" in driver.title\n",
    "        driver.find_element(By.XPATH, \"//input[@id='fi-q']\").send_keys(\"Cloth\")\n",
    "        driver.find_element(By.XPATH,\"//button[@class='btn _prim _md -mls -fsh0']\").click()\n",
    "        print(driver.title)\n",
    "        print(driver.current_url)\n",
    "        driver.back()\n",
    "        driver.find_element(By.XPATH, \"//input[@id='fi-q']\").send_keys(\"Phones\")\n",
    "        driver.find_element(By.XPATH,\"//button[@class='btn _prim _md -mls -fsh0']\").click()\n",
    "        print(driver.title)\n",
    "        print(driver.current_url)\n",
    "        driver.back()\n",
    "    def tearDown(self):\n",
    "        self.driver.close()\n",
    "\n",
    "if __name__ == \"__main__\":\n",
    "    unittest.main(argv=['first-arg-is-ignored'], exit=False)"
   ]
  },
  {
   "cell_type": "code",
   "execution_count": 1,
   "metadata": {},
   "outputs": [
    {
     "name": "stdout",
     "output_type": "stream",
     "text": [
      "Jumia Nigeria | Online Shopping for Groceries, Appliances & More!\n",
      "Jumia Nigeria | Online Shopping for Groceries, Appliances & More!\n",
      "https://www.jumia.com.ng/catalog/?q=Cloth\n",
      "Number of links present: 726\n",
      "Jumia Nigeria | Online Shopping for Groceries, Appliances & More!\n"
     ]
    }
   ],
   "source": [
    "from selenium import webdriver\n",
    "from selenium.webdriver.common.keys import Keys\n",
    "from selenium.webdriver.common.by import By\n",
    "import time\n",
    "\n",
    "class SeleniumDemo():\n",
    "    def OpenJumialink(self):\n",
    "        driver = webdriver.Chrome()\n",
    "        driver.get(\"https://www.jumia.com.ng\")\n",
    "        print(driver.title)\n",
    "        assert \"Jumia Nigeria\" in driver.title\n",
    "        driver.find_element(By.XPATH, \"//input[@id='fi-q']\").send_keys(\"Cloth\")\n",
    "        driver.find_element(By.XPATH,\"//button[@class='btn _prim _md -mls -fsh0']\").click()\n",
    "        print(driver.title)\n",
    "        time.sleep(5)\n",
    "        print(driver.current_url)\n",
    "        time.sleep(5)\n",
    "        driver.save_screenshot('screenshot3.png')\n",
    "        driver.back()\n",
    "        time.sleep(5)\n",
    "        links= driver.find_elements(By.TAG_NAME, 'a')     #links have common attribute\n",
    "        print('Number of links present:',len(links))      # How many links present in a page\n",
    "        links= driver.find_element(By.XPATH, \"//a[@title='JumiaPay']\").click()\n",
    "        time.sleep(5)\n",
    "        print(driver.title)\n",
    "        driver.quit()\n",
    "demobrowser=SeleniumDemo()\n",
    "demobrowser.OpenJumialink()       "
   ]
  },
  {
   "cell_type": "code",
   "execution_count": 3,
   "metadata": {},
   "outputs": [
    {
     "name": "stdout",
     "output_type": "stream",
     "text": [
      "Cancel Order | Jumia NG\n",
      "https://www.jumia.com.ng/sp-cancel-order/\n",
      "CDwindow-5DE73EB96890B946FB3CA49307800B90\n"
     ]
    }
   ],
   "source": [
    "from selenium import webdriver\n",
    "from selenium.webdriver.support.ui import Select\n",
    "from selenium.webdriver.common.by import By\n",
    "import time\n",
    "\n",
    "driver=webdriver.Chrome()\n",
    "driver.get('https://www.jumia.com.ng')  \n",
    "\n",
    "driver.find_element(By.XPATH,\"//label[@for='dpdw-help']\").click()\n",
    "time.sleep(4)\n",
    "driver.find_element(By.XPATH,\"//a[normalize-space()='Order cancellation']\").click()\n",
    "time.sleep(4)\n",
    "print(driver.title)\n",
    "print(driver.current_url)\n",
    "print(driver.current_window_handle)\n",
    "time.sleep(4)\n",
    "driver.save_screenshot('screenshot5.png')\n",
    "driver.back()\n",
    "driver.quit()"
   ]
  },
  {
   "cell_type": "code",
   "execution_count": 1,
   "metadata": {},
   "outputs": [
    {
     "name": "stdout",
     "output_type": "stream",
     "text": [
      "Help botton Displayed or not True\n",
      "Order Cancellation botton displayed or not False\n",
      "Help botton Displayed or not after clicking True\n",
      "Order Cancellation botton displayed or not after clinking Help botton True\n",
      "Cancel Order | Jumia NG\n",
      "https://www.jumia.com.ng/sp-cancel-order/\n",
      "CDwindow-891A8E8AF1C8A2A205BDF71360C6769E\n"
     ]
    }
   ],
   "source": [
    "from selenium import webdriver\n",
    "from selenium.webdriver.common.by import By\n",
    "import time\n",
    "\n",
    "driver=webdriver.Chrome()\n",
    "driver.get('https://www.jumia.com.ng')\n",
    "time.sleep(4)\n",
    "\n",
    "status = driver.find_element(By.XPATH,\"//label[@for='dpdw-help']\").is_displayed()\n",
    "print('Help botton Displayed or not', status)\n",
    "statusOC = driver.find_element(By.XPATH,\"//a[normalize-space()='Order cancellation']\").is_displayed()\n",
    "print('Order Cancellation botton displayed or not', statusOC)\n",
    "time.sleep(4)\n",
    "\n",
    "driver.find_element(By.XPATH,\"//label[@for='dpdw-help']\").click()\n",
    "time.sleep(4)\n",
    "status = driver.find_element(By.XPATH,\"//label[@for='dpdw-help']\").is_displayed()\n",
    "print('Help botton Displayed or not after clicking', status)\n",
    "statusOC = driver.find_element(By.XPATH,\"//a[normalize-space()='Order cancellation']\").is_displayed()\n",
    "print('Order Cancellation botton displayed or not after clinking Help botton', statusOC)\n",
    "\n",
    "driver.find_element(By.XPATH,\"//a[normalize-space()='Order cancellation']\").click()\n",
    "time.sleep(4)\n",
    "\n",
    "print(driver.title)\n",
    "print(driver.current_url)\n",
    "print(driver.current_window_handle)\n",
    "time.sleep(4)\n",
    "driver.save_screenshot('screenshot5.png')\n",
    "driver.back()\n",
    "driver.quit()"
   ]
  },
  {
   "cell_type": "code",
   "execution_count": null,
   "metadata": {},
   "outputs": [],
   "source": []
  }
 ],
 "metadata": {
  "kernelspec": {
   "display_name": "Python 3",
   "language": "python",
   "name": "python3"
  },
  "language_info": {
   "codemirror_mode": {
    "name": "ipython",
    "version": 3
   },
   "file_extension": ".py",
   "mimetype": "text/x-python",
   "name": "python",
   "nbconvert_exporter": "python",
   "pygments_lexer": "ipython3",
   "version": "3.7.3"
  }
 },
 "nbformat": 4,
 "nbformat_minor": 4
}
